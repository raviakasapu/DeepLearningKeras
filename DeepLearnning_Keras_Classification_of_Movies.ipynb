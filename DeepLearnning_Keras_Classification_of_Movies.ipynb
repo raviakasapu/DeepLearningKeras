{
  "nbformat": 4,
  "nbformat_minor": 0,
  "metadata": {
    "colab": {
      "provenance": [],
      "authorship_tag": "ABX9TyM37RBJZkfvGoBHNsfVX4Qa",
      "include_colab_link": true
    },
    "kernelspec": {
      "name": "python3",
      "display_name": "Python 3"
    },
    "language_info": {
      "name": "python"
    }
  },
  "cells": [
    {
      "cell_type": "markdown",
      "metadata": {
        "id": "view-in-github",
        "colab_type": "text"
      },
      "source": [
        "<a href=\"https://colab.research.google.com/github/raviakasapu/DeepLearningKeras/blob/main/DeepLearnning_Keras_Classification_of_Movies.ipynb\" target=\"_parent\"><img src=\"https://colab.research.google.com/assets/colab-badge.svg\" alt=\"Open In Colab\"/></a>"
      ]
    },
    {
      "cell_type": "markdown",
      "source": [
        "# Deep Learning with Keras"
      ],
      "metadata": {
        "id": "iijzHQomhycX"
      }
    },
    {
      "cell_type": "markdown",
      "source": [
        "### Binary Classification - IMDB movie reviews"
      ],
      "metadata": {
        "id": "mEAnXsxkiDap"
      }
    },
    {
      "cell_type": "markdown",
      "source": [
        "### Loading the IMDB dataset"
      ],
      "metadata": {
        "id": "WcGf1TI5iMGO"
      }
    },
    {
      "cell_type": "code",
      "source": [
        "import numpy as np"
      ],
      "metadata": {
        "id": "xwwxO_FMnVrA"
      },
      "execution_count": 31,
      "outputs": []
    },
    {
      "cell_type": "code",
      "source": [
        "from keras.datasets import imdb"
      ],
      "metadata": {
        "id": "zft411QHiAEd"
      },
      "execution_count": 1,
      "outputs": []
    },
    {
      "cell_type": "code",
      "source": [
        "(train_data, train_labels), (test_data, test_labels) = imdb.load_data(num_words=10000)"
      ],
      "metadata": {
        "colab": {
          "base_uri": "https://localhost:8080/"
        },
        "id": "SBuPZrZRiAHz",
        "outputId": "bb795d8d-e1d0-4a14-f6e1-fb6db100d0a8"
      },
      "execution_count": 2,
      "outputs": [
        {
          "output_type": "stream",
          "name": "stdout",
          "text": [
            "Downloading data from https://storage.googleapis.com/tensorflow/tf-keras-datasets/imdb.npz\n",
            "17464789/17464789 [==============================] - 0s 0us/step\n"
          ]
        }
      ]
    },
    {
      "cell_type": "code",
      "source": [
        "train_data[0][:10]"
      ],
      "metadata": {
        "colab": {
          "base_uri": "https://localhost:8080/"
        },
        "id": "W9GN5ayeiAK_",
        "outputId": "9c210bb2-02e8-45d2-aaf2-15a39cce41d8"
      },
      "execution_count": 4,
      "outputs": [
        {
          "output_type": "execute_result",
          "data": {
            "text/plain": [
              "[1, 14, 22, 16, 43, 530, 973, 1622, 1385, 65]"
            ]
          },
          "metadata": {},
          "execution_count": 4
        }
      ]
    },
    {
      "cell_type": "code",
      "source": [
        "train_labels[0]"
      ],
      "metadata": {
        "colab": {
          "base_uri": "https://localhost:8080/"
        },
        "id": "xGgeIglmiAN3",
        "outputId": "df21aed6-fc74-44db-ff62-2a45118ef6e5"
      },
      "execution_count": 5,
      "outputs": [
        {
          "output_type": "execute_result",
          "data": {
            "text/plain": [
              "1"
            ]
          },
          "metadata": {},
          "execution_count": 5
        }
      ]
    },
    {
      "cell_type": "code",
      "source": [
        "print(\"the shape of train data is %d, test data is %d\", (train_data.shape ,train_labels.shape))"
      ],
      "metadata": {
        "colab": {
          "base_uri": "https://localhost:8080/"
        },
        "id": "W25LxBLfiAQs",
        "outputId": "2f194142-eeaa-4b1a-8c4a-3fc58e662564"
      },
      "execution_count": 13,
      "outputs": [
        {
          "output_type": "stream",
          "name": "stdout",
          "text": [
            "the shape of train data is %d, test data is %d ((25000,), (25000,))\n"
          ]
        }
      ]
    },
    {
      "cell_type": "code",
      "source": [
        "print(\"the shape of train data is %d, test data is %d\", (test_data.shape ,test_labels.shape))"
      ],
      "metadata": {
        "colab": {
          "base_uri": "https://localhost:8080/"
        },
        "id": "yAf2lsiLiATT",
        "outputId": "99456e32-ee41-4bee-9a72-ca22ef717ab5"
      },
      "execution_count": 14,
      "outputs": [
        {
          "output_type": "stream",
          "name": "stdout",
          "text": [
            "the shape of train data is %d, test data is %d ((25000,), (25000,))\n"
          ]
        }
      ]
    },
    {
      "cell_type": "code",
      "source": [
        "res = [[0,0,0],[0,0,0]]\n",
        "res1 = np.zeros((len(res),10))\n",
        "for i, v in enumerate([[1,9,3],[4,5,6]]):\n",
        "  res1[i,v]=1\n",
        "res1"
      ],
      "metadata": {
        "colab": {
          "base_uri": "https://localhost:8080/"
        },
        "id": "RjfHAu6HxPLU",
        "outputId": "472c68c2-e5f1-4fee-be08-a8d391822b31"
      },
      "execution_count": 75,
      "outputs": [
        {
          "output_type": "execute_result",
          "data": {
            "text/plain": [
              "array([[0., 1., 0., 1., 0., 0., 0., 0., 0., 1.],\n",
              "       [0., 0., 0., 0., 1., 1., 1., 0., 0., 0.]])"
            ]
          },
          "metadata": {},
          "execution_count": 75
        }
      ]
    },
    {
      "cell_type": "code",
      "source": [
        "def vectorize_sequence(sequence, dims = 10000):\n",
        "  results = np.zeros((len(sequence),dims))\n",
        "  for i , sequence in enumerate(sequence):\n",
        "    results[i,sequence] = 1\n",
        "  return results"
      ],
      "metadata": {
        "id": "ECg0SUU7nT1h"
      },
      "execution_count": 68,
      "outputs": []
    },
    {
      "cell_type": "code",
      "source": [
        "x_train = vectorize_sequence(train_data)"
      ],
      "metadata": {
        "id": "1f3IKDsoqbvN"
      },
      "execution_count": 69,
      "outputs": []
    },
    {
      "cell_type": "code",
      "source": [
        "x_train.shape"
      ],
      "metadata": {
        "colab": {
          "base_uri": "https://localhost:8080/"
        },
        "id": "EhdyXWd8swc7",
        "outputId": "6e60a08f-9fa0-4902-a95c-cd7445021f65"
      },
      "execution_count": 70,
      "outputs": [
        {
          "output_type": "execute_result",
          "data": {
            "text/plain": [
              "(25000, 10000)"
            ]
          },
          "metadata": {},
          "execution_count": 70
        }
      ]
    },
    {
      "cell_type": "code",
      "source": [
        "x_test = vectorize_sequence(test_data)"
      ],
      "metadata": {
        "id": "97WCgAqxxdkL"
      },
      "execution_count": 76,
      "outputs": []
    },
    {
      "cell_type": "code",
      "source": [
        "x_test.shape"
      ],
      "metadata": {
        "colab": {
          "base_uri": "https://localhost:8080/"
        },
        "id": "Siixnod8xh6z",
        "outputId": "56ebfea7-abc2-451e-b6fd-389cfdbbe177"
      },
      "execution_count": 77,
      "outputs": [
        {
          "output_type": "execute_result",
          "data": {
            "text/plain": [
              "(25000, 10000)"
            ]
          },
          "metadata": {},
          "execution_count": 77
        }
      ]
    },
    {
      "cell_type": "code",
      "source": [
        "y_train = vectorize_sequence(train_labels)\n",
        "y_train.shape"
      ],
      "metadata": {
        "colab": {
          "base_uri": "https://localhost:8080/"
        },
        "id": "YVRZprgLxzug",
        "outputId": "7f14d9b8-7aad-4060-9914-65ea4cf0a9fd"
      },
      "execution_count": 79,
      "outputs": [
        {
          "output_type": "execute_result",
          "data": {
            "text/plain": [
              "(25000, 10000)"
            ]
          },
          "metadata": {},
          "execution_count": 79
        }
      ]
    },
    {
      "cell_type": "code",
      "source": [
        "y_test = vectorize_sequence(test_labels)\n",
        "y_test.shape"
      ],
      "metadata": {
        "colab": {
          "base_uri": "https://localhost:8080/"
        },
        "id": "UF3e9dIpxqte",
        "outputId": "47de62b6-ca6f-4235-c7cf-8085b8fcd4de"
      },
      "execution_count": 81,
      "outputs": [
        {
          "output_type": "execute_result",
          "data": {
            "text/plain": [
              "(25000, 10000)"
            ]
          },
          "metadata": {},
          "execution_count": 81
        }
      ]
    }
  ]
}