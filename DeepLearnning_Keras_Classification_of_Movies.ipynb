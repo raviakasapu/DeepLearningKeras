{
  "nbformat": 4,
  "nbformat_minor": 0,
  "metadata": {
    "colab": {
      "provenance": [],
      "authorship_tag": "ABX9TyNUGQrt01xWwPflxeWQswh1",
      "include_colab_link": true
    },
    "kernelspec": {
      "name": "python3",
      "display_name": "Python 3"
    },
    "language_info": {
      "name": "python"
    },
    "accelerator": "GPU",
    "gpuClass": "standard"
  },
  "cells": [
    {
      "cell_type": "markdown",
      "metadata": {
        "id": "view-in-github",
        "colab_type": "text"
      },
      "source": [
        "<a href=\"https://colab.research.google.com/github/raviakasapu/DeepLearningKeras/blob/main/DeepLearnning_Keras_Classification_of_Movies.ipynb\" target=\"_parent\"><img src=\"https://colab.research.google.com/assets/colab-badge.svg\" alt=\"Open In Colab\"/></a>"
      ]
    },
    {
      "cell_type": "markdown",
      "source": [
        "# Deep Learning with Keras"
      ],
      "metadata": {
        "id": "iijzHQomhycX"
      }
    },
    {
      "cell_type": "markdown",
      "source": [
        "### Binary Classification - IMDB movie reviews"
      ],
      "metadata": {
        "id": "mEAnXsxkiDap"
      }
    },
    {
      "cell_type": "markdown",
      "source": [
        "### Loading the IMDB dataset"
      ],
      "metadata": {
        "id": "WcGf1TI5iMGO"
      }
    },
    {
      "cell_type": "code",
      "source": [
        "import numpy as np"
      ],
      "metadata": {
        "id": "xwwxO_FMnVrA"
      },
      "execution_count": 1,
      "outputs": []
    },
    {
      "cell_type": "code",
      "source": [
        "from keras.datasets import imdb"
      ],
      "metadata": {
        "id": "zft411QHiAEd"
      },
      "execution_count": 2,
      "outputs": []
    },
    {
      "cell_type": "code",
      "source": [
        "(train_data, train_labels), (test_data, test_labels) = imdb.load_data(num_words=10000)"
      ],
      "metadata": {
        "colab": {
          "base_uri": "https://localhost:8080/"
        },
        "id": "SBuPZrZRiAHz",
        "outputId": "e5ac6233-8a83-4903-e302-24cf28a67fae"
      },
      "execution_count": 3,
      "outputs": [
        {
          "output_type": "stream",
          "name": "stdout",
          "text": [
            "Downloading data from https://storage.googleapis.com/tensorflow/tf-keras-datasets/imdb.npz\n",
            "17464789/17464789 [==============================] - 2s 0us/step\n"
          ]
        }
      ]
    },
    {
      "cell_type": "code",
      "source": [
        "train_data[0][:10]"
      ],
      "metadata": {
        "colab": {
          "base_uri": "https://localhost:8080/"
        },
        "id": "W9GN5ayeiAK_",
        "outputId": "f35355e2-0a78-4234-c5a2-7d50af0429ed"
      },
      "execution_count": 4,
      "outputs": [
        {
          "output_type": "execute_result",
          "data": {
            "text/plain": [
              "[1, 14, 22, 16, 43, 530, 973, 1622, 1385, 65]"
            ]
          },
          "metadata": {},
          "execution_count": 4
        }
      ]
    },
    {
      "cell_type": "code",
      "source": [
        "train_labels[0]"
      ],
      "metadata": {
        "colab": {
          "base_uri": "https://localhost:8080/"
        },
        "id": "xGgeIglmiAN3",
        "outputId": "5e08363f-e2ab-431c-d2f8-be607e9d5ba2"
      },
      "execution_count": 5,
      "outputs": [
        {
          "output_type": "execute_result",
          "data": {
            "text/plain": [
              "1"
            ]
          },
          "metadata": {},
          "execution_count": 5
        }
      ]
    },
    {
      "cell_type": "code",
      "source": [
        "print(\"the shape of train data is %d, test data is %d\", (train_data.shape ,train_labels.shape))"
      ],
      "metadata": {
        "colab": {
          "base_uri": "https://localhost:8080/"
        },
        "id": "W25LxBLfiAQs",
        "outputId": "97f07098-19f2-4b23-f0fd-f99ecc838f15"
      },
      "execution_count": 6,
      "outputs": [
        {
          "output_type": "stream",
          "name": "stdout",
          "text": [
            "the shape of train data is %d, test data is %d ((25000,), (25000,))\n"
          ]
        }
      ]
    },
    {
      "cell_type": "code",
      "source": [
        "print(\"the shape of train data is %d, test data is %d\", (test_data.shape ,test_labels.shape))"
      ],
      "metadata": {
        "colab": {
          "base_uri": "https://localhost:8080/"
        },
        "id": "yAf2lsiLiATT",
        "outputId": "e9ae9cf9-c70f-4f44-8fe0-c9d7b5b25fb7"
      },
      "execution_count": 7,
      "outputs": [
        {
          "output_type": "stream",
          "name": "stdout",
          "text": [
            "the shape of train data is %d, test data is %d ((25000,), (25000,))\n"
          ]
        }
      ]
    },
    {
      "cell_type": "code",
      "source": [
        "res = [[0,0,0],[0,0,0]]\n",
        "res1 = np.zeros((len(res),10))\n",
        "for i, v in enumerate([[1,9,3],[4,5,6]]):\n",
        "  res1[i,v]=1\n",
        "res1"
      ],
      "metadata": {
        "colab": {
          "base_uri": "https://localhost:8080/"
        },
        "id": "RjfHAu6HxPLU",
        "outputId": "3e018632-3dc2-4e52-a57b-56272d51d6a8"
      },
      "execution_count": 8,
      "outputs": [
        {
          "output_type": "execute_result",
          "data": {
            "text/plain": [
              "array([[0., 1., 0., 1., 0., 0., 0., 0., 0., 1.],\n",
              "       [0., 0., 0., 0., 1., 1., 1., 0., 0., 0.]])"
            ]
          },
          "metadata": {},
          "execution_count": 8
        }
      ]
    },
    {
      "cell_type": "code",
      "source": [
        "def vectorize_sequence(sequence, dims = 10000):\n",
        "  results = np.zeros((len(sequence),dims))\n",
        "  for i , sequence in enumerate(sequence):\n",
        "    results[i,sequence] = 1\n",
        "  return results"
      ],
      "metadata": {
        "id": "ECg0SUU7nT1h"
      },
      "execution_count": 9,
      "outputs": []
    },
    {
      "cell_type": "code",
      "source": [
        "x_train = vectorize_sequence(train_data)"
      ],
      "metadata": {
        "id": "1f3IKDsoqbvN"
      },
      "execution_count": 10,
      "outputs": []
    },
    {
      "cell_type": "code",
      "source": [
        "x_train.shape"
      ],
      "metadata": {
        "colab": {
          "base_uri": "https://localhost:8080/"
        },
        "id": "EhdyXWd8swc7",
        "outputId": "83188ae2-16c8-4d4f-a6a1-32a1fe288736"
      },
      "execution_count": 11,
      "outputs": [
        {
          "output_type": "execute_result",
          "data": {
            "text/plain": [
              "(25000, 10000)"
            ]
          },
          "metadata": {},
          "execution_count": 11
        }
      ]
    },
    {
      "cell_type": "code",
      "source": [
        "x_test = vectorize_sequence(test_data)"
      ],
      "metadata": {
        "id": "97WCgAqxxdkL"
      },
      "execution_count": 12,
      "outputs": []
    },
    {
      "cell_type": "code",
      "source": [
        "x_test.shape"
      ],
      "metadata": {
        "colab": {
          "base_uri": "https://localhost:8080/"
        },
        "id": "Siixnod8xh6z",
        "outputId": "02cf45ff-147a-4370-a11b-4e77b79085b0"
      },
      "execution_count": 13,
      "outputs": [
        {
          "output_type": "execute_result",
          "data": {
            "text/plain": [
              "(25000, 10000)"
            ]
          },
          "metadata": {},
          "execution_count": 13
        }
      ]
    },
    {
      "cell_type": "code",
      "source": [
        "y_train = np.asarray(train_labels).astype('float32').reshape((-1,1))\n",
        "y_train.shape"
      ],
      "metadata": {
        "colab": {
          "base_uri": "https://localhost:8080/"
        },
        "id": "fAiBlxLL7F4_",
        "outputId": "a7d463d3-b033-4a1b-e665-0f0159ec3414"
      },
      "execution_count": 14,
      "outputs": [
        {
          "output_type": "execute_result",
          "data": {
            "text/plain": [
              "(25000, 1)"
            ]
          },
          "metadata": {},
          "execution_count": 14
        }
      ]
    },
    {
      "cell_type": "code",
      "source": [
        "y_test = np.asarray(test_labels).astype('float32').reshape((-1,1))\n",
        "y_test.shape"
      ],
      "metadata": {
        "colab": {
          "base_uri": "https://localhost:8080/"
        },
        "id": "bigmxiIh7GBS",
        "outputId": "f10ce2b3-5470-418a-fc6c-01d97b2de919"
      },
      "execution_count": 15,
      "outputs": [
        {
          "output_type": "execute_result",
          "data": {
            "text/plain": [
              "(25000, 1)"
            ]
          },
          "metadata": {},
          "execution_count": 15
        }
      ]
    },
    {
      "cell_type": "markdown",
      "source": [
        "# Model"
      ],
      "metadata": {
        "id": "4NRp3ZWK1vYG"
      }
    },
    {
      "cell_type": "code",
      "source": [
        "from keras import models\n",
        "from keras import layers\n",
        "from keras import optimizers\n",
        "from keras import losses\n",
        "from keras import metrics"
      ],
      "metadata": {
        "id": "1foLsvr-1xDE"
      },
      "execution_count": 16,
      "outputs": []
    },
    {
      "cell_type": "code",
      "source": [
        "model = models.Sequential()\n",
        "model.add(layers.Dense(16, activation='relu',input_shape=(10000,)))\n",
        "model.add(layers.Dense(16, activation='relu'))\n",
        "model.add(layers.Dense(1, activation='sigmoid'))"
      ],
      "metadata": {
        "id": "hsDDpHh613ZI"
      },
      "execution_count": 17,
      "outputs": []
    },
    {
      "cell_type": "code",
      "source": [
        "model.compile(optimizer=optimizers.RMSprop(learning_rate=0.001),\n",
        "              loss=losses.binary_crossentropy,\n",
        "              metrics=[metrics.binary_accuracy]\n",
        "              )"
      ],
      "metadata": {
        "id": "ds9w_IMB2jEd"
      },
      "execution_count": 18,
      "outputs": []
    },
    {
      "cell_type": "markdown",
      "source": [
        "# Validating\n"
      ],
      "metadata": {
        "id": "afg2wXPo4xdw"
      }
    },
    {
      "cell_type": "code",
      "source": [
        "x_val = x_train[:10000]\n",
        "partial_x_train = x_train[10000:]\n",
        "x_val.shape"
      ],
      "metadata": {
        "colab": {
          "base_uri": "https://localhost:8080/"
        },
        "id": "7n6VGhEZ3XpY",
        "outputId": "b1c8936b-f0e8-4378-b94a-55f7b1788847"
      },
      "execution_count": 19,
      "outputs": [
        {
          "output_type": "execute_result",
          "data": {
            "text/plain": [
              "(10000, 10000)"
            ]
          },
          "metadata": {},
          "execution_count": 19
        }
      ]
    },
    {
      "cell_type": "code",
      "source": [
        "y_val = y_train[:10000]\n",
        "partial_y_train = y_train[10000:]\n",
        "y_val.shape"
      ],
      "metadata": {
        "colab": {
          "base_uri": "https://localhost:8080/"
        },
        "id": "bCIvzAUs5Gea",
        "outputId": "59908ef4-fb04-4602-cc2d-ae1cce683199"
      },
      "execution_count": 20,
      "outputs": [
        {
          "output_type": "execute_result",
          "data": {
            "text/plain": [
              "(10000, 1)"
            ]
          },
          "metadata": {},
          "execution_count": 20
        }
      ]
    },
    {
      "cell_type": "code",
      "source": [
        "model.compile(optimizer='rmsprop',\n",
        "              loss='binary_crossentropy',\n",
        "              metrics=['acc']\n",
        "              )"
      ],
      "metadata": {
        "id": "KDjjvfdT6nG0"
      },
      "execution_count": 21,
      "outputs": []
    },
    {
      "cell_type": "code",
      "source": [
        "history = model.fit(partial_x_train,\n",
        "                    partial_y_train,\n",
        "                    epochs=20,\n",
        "                    batch_size=512,\n",
        "                    validation_data=(x_val,y_val)\n",
        "                    )"
      ],
      "metadata": {
        "colab": {
          "base_uri": "https://localhost:8080/"
        },
        "id": "ktjhYINF5QgR",
        "outputId": "3b58c888-93bd-4ea8-ef78-b8b3a9fc1874"
      },
      "execution_count": 22,
      "outputs": [
        {
          "output_type": "stream",
          "name": "stdout",
          "text": [
            "Epoch 1/20\n",
            "30/30 [==============================] - 8s 59ms/step - loss: 0.5114 - acc: 0.7873 - val_loss: 0.3872 - val_acc: 0.8693\n",
            "Epoch 2/20\n",
            "30/30 [==============================] - 1s 24ms/step - loss: 0.3124 - acc: 0.9005 - val_loss: 0.3286 - val_acc: 0.8718\n",
            "Epoch 3/20\n",
            "30/30 [==============================] - 1s 22ms/step - loss: 0.2375 - acc: 0.9217 - val_loss: 0.2824 - val_acc: 0.8913\n",
            "Epoch 4/20\n",
            "30/30 [==============================] - 1s 21ms/step - loss: 0.1907 - acc: 0.9399 - val_loss: 0.2756 - val_acc: 0.8887\n",
            "Epoch 5/20\n",
            "30/30 [==============================] - 1s 22ms/step - loss: 0.1612 - acc: 0.9477 - val_loss: 0.2761 - val_acc: 0.8886\n",
            "Epoch 6/20\n",
            "30/30 [==============================] - 1s 23ms/step - loss: 0.1374 - acc: 0.9590 - val_loss: 0.2826 - val_acc: 0.8872\n",
            "Epoch 7/20\n",
            "30/30 [==============================] - 1s 25ms/step - loss: 0.1158 - acc: 0.9652 - val_loss: 0.2945 - val_acc: 0.8839\n",
            "Epoch 8/20\n",
            "30/30 [==============================] - 1s 23ms/step - loss: 0.0994 - acc: 0.9718 - val_loss: 0.3064 - val_acc: 0.8835\n",
            "Epoch 9/20\n",
            "30/30 [==============================] - 1s 24ms/step - loss: 0.0839 - acc: 0.9771 - val_loss: 0.3693 - val_acc: 0.8656\n",
            "Epoch 10/20\n",
            "30/30 [==============================] - 1s 23ms/step - loss: 0.0732 - acc: 0.9809 - val_loss: 0.3372 - val_acc: 0.8812\n",
            "Epoch 11/20\n",
            "30/30 [==============================] - 1s 23ms/step - loss: 0.0601 - acc: 0.9859 - val_loss: 0.3573 - val_acc: 0.8801\n",
            "Epoch 12/20\n",
            "30/30 [==============================] - 1s 23ms/step - loss: 0.0514 - acc: 0.9881 - val_loss: 0.3752 - val_acc: 0.8782\n",
            "Epoch 13/20\n",
            "30/30 [==============================] - 1s 25ms/step - loss: 0.0405 - acc: 0.9923 - val_loss: 0.4112 - val_acc: 0.8736\n",
            "Epoch 14/20\n",
            "30/30 [==============================] - 1s 40ms/step - loss: 0.0337 - acc: 0.9949 - val_loss: 0.4363 - val_acc: 0.8738\n",
            "Epoch 15/20\n",
            "30/30 [==============================] - 1s 40ms/step - loss: 0.0291 - acc: 0.9947 - val_loss: 0.4424 - val_acc: 0.8767\n",
            "Epoch 16/20\n",
            "30/30 [==============================] - 1s 25ms/step - loss: 0.0245 - acc: 0.9961 - val_loss: 0.4660 - val_acc: 0.8748\n",
            "Epoch 17/20\n",
            "30/30 [==============================] - 1s 25ms/step - loss: 0.0248 - acc: 0.9948 - val_loss: 0.4824 - val_acc: 0.8739\n",
            "Epoch 18/20\n",
            "30/30 [==============================] - 1s 25ms/step - loss: 0.0162 - acc: 0.9981 - val_loss: 0.5121 - val_acc: 0.8682\n",
            "Epoch 19/20\n",
            "30/30 [==============================] - 1s 25ms/step - loss: 0.0157 - acc: 0.9975 - val_loss: 0.5196 - val_acc: 0.8735\n",
            "Epoch 20/20\n",
            "30/30 [==============================] - 1s 22ms/step - loss: 0.0090 - acc: 0.9997 - val_loss: 0.6087 - val_acc: 0.8633\n"
          ]
        }
      ]
    },
    {
      "cell_type": "code",
      "source": [
        "history_dict = history.history"
      ],
      "metadata": {
        "id": "N8KPNhGd8ZVS"
      },
      "execution_count": 23,
      "outputs": []
    },
    {
      "cell_type": "code",
      "source": [
        "history_dict.keys()"
      ],
      "metadata": {
        "colab": {
          "base_uri": "https://localhost:8080/"
        },
        "id": "MYbk5BTy8iGQ",
        "outputId": "6fd04e1a-4edb-41d2-9787-51d28875e49c"
      },
      "execution_count": 24,
      "outputs": [
        {
          "output_type": "execute_result",
          "data": {
            "text/plain": [
              "dict_keys(['loss', 'acc', 'val_loss', 'val_acc'])"
            ]
          },
          "metadata": {},
          "execution_count": 24
        }
      ]
    },
    {
      "cell_type": "code",
      "source": [
        "history_dict['acc']"
      ],
      "metadata": {
        "colab": {
          "base_uri": "https://localhost:8080/"
        },
        "id": "gjlc5K1G91zU",
        "outputId": "2b066aca-b332-4480-c8e5-2ac246f20f3c"
      },
      "execution_count": 27,
      "outputs": [
        {
          "output_type": "execute_result",
          "data": {
            "text/plain": [
              "[0.7873333096504211,\n",
              " 0.9004666805267334,\n",
              " 0.9217333197593689,\n",
              " 0.9399333596229553,\n",
              " 0.9477333426475525,\n",
              " 0.9589999914169312,\n",
              " 0.9652000069618225,\n",
              " 0.9718000292778015,\n",
              " 0.977066695690155,\n",
              " 0.9809333086013794,\n",
              " 0.9859333038330078,\n",
              " 0.9881333112716675,\n",
              " 0.9922666549682617,\n",
              " 0.994866669178009,\n",
              " 0.9946666955947876,\n",
              " 0.996066689491272,\n",
              " 0.9947999715805054,\n",
              " 0.9981333613395691,\n",
              " 0.9974666833877563,\n",
              " 0.9997333288192749]"
            ]
          },
          "metadata": {},
          "execution_count": 27
        }
      ]
    },
    {
      "cell_type": "markdown",
      "source": [
        "# plotting"
      ],
      "metadata": {
        "id": "mwvwVWy28tlJ"
      }
    },
    {
      "cell_type": "code",
      "source": [
        "import matplotlib.pyplot as plt"
      ],
      "metadata": {
        "id": "wjet-iRz8u1b"
      },
      "execution_count": 25,
      "outputs": []
    },
    {
      "cell_type": "code",
      "source": [
        "loss_values = history_dict['loss']\n",
        "val_loss_values = history_dict['val_loss']\n",
        "\n",
        "epochs = range(1, len(history_dict['acc'])+1)\n",
        "\n",
        "plt.plot(epochs, loss_values, 'bo', label ='Training Loss')\n",
        "plt.plot(epochs, val_loss_values, 'b', label ='Validation Loss')\n",
        "plt.title('losses comparison')\n",
        "plt.xlabel('epochs')\n",
        "plt.ylabel('loss')\n",
        "plt.legend()\n",
        "\n",
        "plt.show()"
      ],
      "metadata": {
        "colab": {
          "base_uri": "https://localhost:8080/",
          "height": 471
        },
        "id": "q2oJoSsG825H",
        "outputId": "cd1a5454-88b4-4450-be13-ecc7a5578c4b"
      },
      "execution_count": 29,
      "outputs": [
        {
          "output_type": "display_data",
          "data": {
            "text/plain": [
              "<Figure size 640x480 with 1 Axes>"
            ],
            "image/png": "[encoded data removed]"
          },
          "metadata": {}
        }
      ]
    },
    {
      "cell_type": "code",
      "source": [
        "accuracy_values = history_dict['acc']\n",
        "val_accuracy_values = history_dict['val_acc']\n",
        "\n",
        "epochs = range(1, len(history_dict['acc'])+1)\n",
        "\n",
        "plt.plot(epochs, accuracy_values, 'bo', label ='Training Accuracy')\n",
        "plt.plot(epochs, val_accuracy_values, 'b', label ='Validation Accuracy')\n",
        "plt.title('Accuracy comparison')\n",
        "plt.xlabel('epochs')\n",
        "plt.ylabel('accuracy')\n",
        "plt.legend()\n",
        "\n",
        "plt.show()"
      ],
      "metadata": {
        "colab": {
          "base_uri": "https://localhost:8080/",
          "height": 471
        },
        "id": "sFhNQWmo-M5z",
        "outputId": "42399e93-a675-444a-f2f4-40bed87b20cd"
      },
      "execution_count": 30,
      "outputs": [
        {
          "output_type": "display_data",
          "data": {
            "text/plain": [
              "<Figure size 640x480 with 1 Axes>"
            ],
            "image/png": "[encoded data removed]"
          },
          "metadata": {}
        }
      ]
    }
  ]
}