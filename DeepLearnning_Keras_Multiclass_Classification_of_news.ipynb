{
  "nbformat": 4,
  "nbformat_minor": 0,
  "metadata": {
    "colab": {
      "provenance": [],
      "authorship_tag": "ABX9TyNX23OluQ/+kPW/9Ut8DaFQ",
      "include_colab_link": true
    },
    "kernelspec": {
      "name": "python3",
      "display_name": "Python 3"
    },
    "language_info": {
      "name": "python"
    }
  },
  "cells": [
    {
      "cell_type": "markdown",
      "metadata": {
        "id": "view-in-github",
        "colab_type": "text"
      },
      "source": [
        "<a href=\"https://colab.research.google.com/github/raviakasapu/DeepLearningKeras/blob/main/DeepLearnning_Keras_Multiclass_Classification_of_news.ipynb\" target=\"_parent\"><img src=\"https://colab.research.google.com/assets/colab-badge.svg\" alt=\"Open In Colab\"/></a>"
      ]
    },
    {
      "cell_type": "markdown",
      "source": [
        "# Multi class Classification - Newswires"
      ],
      "metadata": {
        "id": "GkrhMeHTVjAi"
      }
    },
    {
      "cell_type": "markdown",
      "source": [
        "### Load Reuters data set"
      ],
      "metadata": {
        "id": "YeI6xSWtVqdm"
      }
    },
    {
      "cell_type": "code",
      "source": [
        "from keras.datasets import reuters"
      ],
      "metadata": {
        "id": "hFLJV7Q1WJz0"
      },
      "execution_count": 2,
      "outputs": []
    },
    {
      "cell_type": "code",
      "source": [
        "(train_data, train_labels), (test_data, test_labels) = reuters.load_data(num_words=10000)"
      ],
      "metadata": {
        "id": "45wtYrpSWQXm"
      },
      "execution_count": 66,
      "outputs": []
    },
    {
      "cell_type": "code",
      "source": [
        "len(train_data)"
      ],
      "metadata": {
        "colab": {
          "base_uri": "https://localhost:8080/"
        },
        "id": "cLhr2OPVWs1-",
        "outputId": "68a1eca6-4118-4f7a-9132-a19d4405c5a3"
      },
      "execution_count": 5,
      "outputs": [
        {
          "output_type": "execute_result",
          "data": {
            "text/plain": [
              "8982"
            ]
          },
          "metadata": {},
          "execution_count": 5
        }
      ]
    },
    {
      "cell_type": "code",
      "source": [
        "len(test_data)"
      ],
      "metadata": {
        "colab": {
          "base_uri": "https://localhost:8080/"
        },
        "id": "hSeDa2ztWxAp",
        "outputId": "52a5dc5e-4abc-49c3-8b00-3f080dff9fdd"
      },
      "execution_count": 7,
      "outputs": [
        {
          "output_type": "execute_result",
          "data": {
            "text/plain": [
              "2246"
            ]
          },
          "metadata": {},
          "execution_count": 7
        }
      ]
    },
    {
      "cell_type": "code",
      "source": [
        "train_labels[1]"
      ],
      "metadata": {
        "colab": {
          "base_uri": "https://localhost:8080/"
        },
        "id": "8cX39medXBxy",
        "outputId": "54e73d0a-eec3-48a0-e59e-4330bf0268b1"
      },
      "execution_count": 11,
      "outputs": [
        {
          "output_type": "execute_result",
          "data": {
            "text/plain": [
              "4"
            ]
          },
          "metadata": {},
          "execution_count": 11
        }
      ]
    },
    {
      "cell_type": "code",
      "source": [
        "# unique lables\n",
        "dimensions = len(set(train_labels))\n",
        "dimensions"
      ],
      "metadata": {
        "colab": {
          "base_uri": "https://localhost:8080/"
        },
        "id": "ee3n50W9XWiq",
        "outputId": "3f5e1928-973b-4925-cd8f-6593a02f60bf"
      },
      "execution_count": 32,
      "outputs": [
        {
          "output_type": "execute_result",
          "data": {
            "text/plain": [
              "46"
            ]
          },
          "metadata": {},
          "execution_count": 32
        }
      ]
    },
    {
      "cell_type": "code",
      "source": [
        "import numpy as np"
      ],
      "metadata": {
        "id": "r6eUmiGLZCvi"
      },
      "execution_count": 21,
      "outputs": []
    },
    {
      "cell_type": "code",
      "source": [
        "# vectorize data\n",
        "def vectorize_sequence(sequence, dims = 10000):\n",
        "  results = np.zeros((len(sequence),dims))\n",
        "  for i , sequence in enumerate(sequence):\n",
        "    results[i,sequence] = 1\n",
        "  return results"
      ],
      "metadata": {
        "id": "ZZHAH07rY0Ww"
      },
      "execution_count": 22,
      "outputs": []
    },
    {
      "cell_type": "code",
      "source": [
        "x_train = vectorize_sequence(train_data)\n",
        "x_train.shape"
      ],
      "metadata": {
        "colab": {
          "base_uri": "https://localhost:8080/"
        },
        "id": "YGk7BNPcY9M3",
        "outputId": "3981d01a-cea5-4841-e6cb-6a69b391fcda"
      },
      "execution_count": 61,
      "outputs": [
        {
          "output_type": "execute_result",
          "data": {
            "text/plain": [
              "(8982, 10000)"
            ]
          },
          "metadata": {},
          "execution_count": 61
        }
      ]
    },
    {
      "cell_type": "code",
      "source": [
        "x_test = vectorize_sequence(test_data)\n",
        "x_test.shape"
      ],
      "metadata": {
        "colab": {
          "base_uri": "https://localhost:8080/"
        },
        "id": "hPADdigTZKTZ",
        "outputId": "6e43760e-e579-4819-ff39-905a2b53eb70"
      },
      "execution_count": 62,
      "outputs": [
        {
          "output_type": "execute_result",
          "data": {
            "text/plain": [
              "(2246, 10000)"
            ]
          },
          "metadata": {},
          "execution_count": 62
        }
      ]
    },
    {
      "cell_type": "markdown",
      "source": [
        "### one hot encoding"
      ],
      "metadata": {
        "id": "GNR01lovaCoP"
      }
    },
    {
      "cell_type": "code",
      "source": [
        "def one_hot_encoding(labels,dims = 46):\n",
        "  results =  np.zeros((len(labels),dims))\n",
        "  for i, label in enumerate(labels):\n",
        "    results[i,label] = 1.\n",
        "  return results\n"
      ],
      "metadata": {
        "id": "NrPudD0daBib"
      },
      "execution_count": 53,
      "outputs": []
    },
    {
      "cell_type": "code",
      "source": [
        "len(train_labels)"
      ],
      "metadata": {
        "colab": {
          "base_uri": "https://localhost:8080/"
        },
        "id": "MkhqTnYGcsix",
        "outputId": "10d4612c-ee14-4990-b8d4-ec971219dd8f"
      },
      "execution_count": 63,
      "outputs": [
        {
          "output_type": "execute_result",
          "data": {
            "text/plain": [
              "8982"
            ]
          },
          "metadata": {},
          "execution_count": 63
        }
      ]
    },
    {
      "cell_type": "code",
      "source": [
        "train_y = one_hot_encoding(train_labels)\n"
      ],
      "metadata": {
        "id": "eBWOtC8Na3nC"
      },
      "execution_count": 65,
      "outputs": []
    },
    {
      "cell_type": "code",
      "source": [
        "test_y = one_hot_encoding(test_labels)"
      ],
      "metadata": {
        "id": "4adu28sHehpK"
      },
      "execution_count": 67,
      "outputs": []
    },
    {
      "cell_type": "code",
      "source": [
        "train_y[1]"
      ],
      "metadata": {
        "colab": {
          "base_uri": "https://localhost:8080/"
        },
        "id": "nvOQgpOuezAm",
        "outputId": "893785d9-9bbc-40ab-e0bf-119dbb1bf4a8"
      },
      "execution_count": 71,
      "outputs": [
        {
          "output_type": "execute_result",
          "data": {
            "text/plain": [
              "array([0., 0., 0., 0., 1., 0., 0., 0., 0., 0., 0., 0., 0., 0., 0., 0., 0.,\n",
              "       0., 0., 0., 0., 0., 0., 0., 0., 0., 0., 0., 0., 0., 0., 0., 0., 0.,\n",
              "       0., 0., 0., 0., 0., 0., 0., 0., 0., 0., 0., 0.])"
            ]
          },
          "metadata": {},
          "execution_count": 71
        }
      ]
    }
  ]
}